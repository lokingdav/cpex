{
 "cells": [
  {
   "cell_type": "code",
   "execution_count": null,
   "metadata": {},
   "outputs": [
    {
     "name": "stdout",
     "output_type": "stream",
     "text": [
      "           min     max   median     MAD  compute      vCPUs\n",
      "PUB:P    7.007  17.788   8.8345  0.7130  10.9735   8.647118\n",
      "PUB:EV   4.326  11.514   5.0870  0.1350   5.4920   5.008875\n",
      "PUB:MS   3.941   9.317   4.8460  0.0450   4.9810   4.542827\n",
      "RET:P   10.628  25.660  12.7105  0.8335  15.2110  11.986268\n",
      "RET:EV   4.290  10.249   5.0915  0.1355   5.4980   5.014348\n",
      "RET:MS   3.894   8.898   4.8055  0.0375   4.9180   4.485369\n",
      "\n",
      "VCPUs\n",
      "------------------\n",
      "Provider:\t21\n",
      "Evaluator:\t11\n",
      "Message Store:\t10\n",
      "\n",
      "\n"
     ]
    }
   ],
   "source": [
    "from cpex.prototype.experiments.results.scripts import helpers\n",
    "import numpy as np\n",
    "\n",
    "oob_frac = 0.788\n",
    "total_call_rate = 23_148\n",
    "median_call_rate = 1_000\n",
    "file_path = \"../experiment-2.csv\"\n",
    "columns = ['PUB:P', 'PUB:EV', 'PUB:MS', 'RET:P', 'RET:EV', 'RET:MS']\n",
    "stats = helpers.compute_statistics(file_path, columns)\n",
    "n_mad, N, M = 3, 20, 20\n",
    "\n",
    "oob_calls_rate = total_call_rate * oob_frac\n",
    "p_rate = median_call_rate * oob_frac\n",
    "\n",
    "stats = helpers.estimate_vcpus(\n",
    "    stats=stats,\n",
    "    n_mad=n_mad, \n",
    "    call_rate=oob_calls_rate, \n",
    "    p_rate=p_rate,\n",
    "    N=N, \n",
    "    M=M\n",
    ")\n",
    "\n",
    "# Bandwidth For provider: (6 * 1000 per second) * 1.5 * (2000 Bytes) to megabits per second\n",
    "# Bandwidth for message store: (2 * 0.078 billion per day) * 1.5 * (2000 Bytes) to megabits per second\n",
    "# Bandwidth for Evaluator: (2 * 0.078 billion per day) * 1.5 * (900 Bytes) to megabits per second"
   ]
  }
 ],
 "metadata": {
  "kernelspec": {
   "display_name": ".venv",
   "language": "python",
   "name": "python3"
  },
  "language_info": {
   "codemirror_mode": {
    "name": "ipython",
    "version": 3
   },
   "file_extension": ".py",
   "mimetype": "text/x-python",
   "name": "python",
   "nbconvert_exporter": "python",
   "pygments_lexer": "ipython3",
   "version": "3.8.18"
  }
 },
 "nbformat": 4,
 "nbformat_minor": 2
}

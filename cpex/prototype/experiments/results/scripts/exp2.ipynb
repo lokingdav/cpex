{
 "cells": [
  {
   "cell_type": "code",
   "execution_count": 2,
   "metadata": {},
   "outputs": [
    {
     "name": "stdout",
     "output_type": "stream",
     "text": [
      "          min     max   median     MAD  compute      vCPUs\n",
      "PUB:P   6.644  22.456   7.8575  0.4490   9.2045   7.253146\n",
      "PUB:EV  3.489  10.591   4.1560  0.1595   4.6345   4.226809\n",
      "PUB:MS  3.102  13.907   3.8290  0.0400   3.9490   3.601611\n",
      "RET:P   9.678  22.148  11.4665  0.5015  12.9710  10.221148\n",
      "RET:EV  3.481  12.202   4.1405  0.1630   4.6295   4.222248\n",
      "RET:MS  3.096   9.890   3.8000  0.0340   3.9020   3.558746\n",
      "\n",
      "VCPUs\n",
      "------------------\n",
      "Provider:\t18\n",
      "Evaluator:\t9\n",
      "Message Store:\t8\n",
      "\n",
      "\n"
     ]
    }
   ],
   "source": [
    "from cpex.prototype.experiments.results.scripts import helpers\n",
    "import numpy as np\n",
    "\n",
    "oob_frac = 0.788\n",
    "total_call_rate = 23_148\n",
    "median_call_rate = 1_000\n",
    "file_path = \"../experiment-2.csv\"\n",
    "columns = ['PUB:P', 'PUB:EV', 'PUB:MS', 'RET:P', 'RET:EV', 'RET:MS']\n",
    "stats = helpers.compute_statistics(file_path, columns)\n",
    "n_mad, N, M = 3, 20, 20\n",
    "\n",
    "oob_calls_rate = total_call_rate * oob_frac\n",
    "p_rate = median_call_rate * oob_frac\n",
    "\n",
    "stats = helpers.estimate_vcpus(\n",
    "    stats=stats,\n",
    "    n_mad=n_mad, \n",
    "    call_rate=oob_calls_rate, \n",
    "    p_rate=p_rate,\n",
    "    N=N, \n",
    "    M=M\n",
    ")"
   ]
  }
 ],
 "metadata": {
  "kernelspec": {
   "display_name": ".venv",
   "language": "python",
   "name": "python3"
  },
  "language_info": {
   "codemirror_mode": {
    "name": "ipython",
    "version": 3
   },
   "file_extension": ".py",
   "mimetype": "text/x-python",
   "name": "python",
   "nbconvert_exporter": "python",
   "pygments_lexer": "ipython3",
   "version": "3.8.18"
  }
 },
 "nbformat": 4,
 "nbformat_minor": 2
}

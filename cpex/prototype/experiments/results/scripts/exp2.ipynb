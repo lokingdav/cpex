{
 "cells": [
  {
   "cell_type": "code",
   "execution_count": 1,
   "metadata": {},
   "outputs": [
    {
     "name": "stdout",
     "output_type": "stream",
     "text": [
      "          min     max   median     MAD  compute      vCPUs\n",
      "PUB:P   6.447  16.857   8.8040  0.7565  11.0735   8.725918\n",
      "PUB:EV  4.252  10.279   5.1000  0.1480   5.5440   5.056301\n",
      "PUB:MS  3.741  11.713   4.8220  0.0390   4.9390   4.504522\n",
      "RET:P   9.759  24.120  12.7315  0.8575  15.3040  12.059552\n",
      "RET:EV  4.081   9.323   5.0875  0.1405   5.5090   5.024380\n",
      "RET:MS  3.701   9.094   4.7970  0.0340   4.8990   4.468041\n",
      "\n",
      "VCPUs\n",
      "------------------\n",
      "Provider:\t21\n",
      "Evaluator:\t11\n",
      "Message Store:\t9\n",
      "\n",
      "\n"
     ]
    }
   ],
   "source": [
    "from cpex.prototype.experiments.results.scripts import helpers\n",
    "import numpy as np\n",
    "\n",
    "oob_frac = 0.788\n",
    "total_call_rate = 23_148\n",
    "median_call_rate = 1_000\n",
    "file_path = \"../experiment-2.csv\"\n",
    "columns = ['PUB:P', 'PUB:EV', 'PUB:MS', 'RET:P', 'RET:EV', 'RET:MS']\n",
    "stats = helpers.compute_statistics(file_path, columns)\n",
    "n_mad, N, M = 3, 20, 20\n",
    "\n",
    "oob_calls_rate = total_call_rate * oob_frac\n",
    "p_rate = median_call_rate * oob_frac\n",
    "\n",
    "stats = helpers.estimate_vcpus(\n",
    "    stats=stats,\n",
    "    n_mad=n_mad, \n",
    "    call_rate=oob_calls_rate, \n",
    "    p_rate=p_rate,\n",
    "    N=N, \n",
    "    M=M\n",
    ")"
   ]
  }
 ],
 "metadata": {
  "kernelspec": {
   "display_name": ".venv",
   "language": "python",
   "name": "python3"
  },
  "language_info": {
   "codemirror_mode": {
    "name": "ipython",
    "version": 3
   },
   "file_extension": ".py",
   "mimetype": "text/x-python",
   "name": "python",
   "nbconvert_exporter": "python",
   "pygments_lexer": "ipython3",
   "version": "3.8.18"
  }
 },
 "nbformat": 4,
 "nbformat_minor": 2
}

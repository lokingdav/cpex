{
 "cells": [
  {
   "cell_type": "code",
   "execution_count": null,
   "metadata": {},
   "outputs": [],
   "source": [
    "file_path = \"../k6.csv\"\n",
    "defaultFs = 14"
   ]
  },
  {
   "cell_type": "code",
   "execution_count": null,
   "metadata": {},
   "outputs": [],
   "source": [
    "import pandas as pd\n",
    "import matplotlib.pyplot as plt\n",
    "import seaborn as sns\n",
    "\n",
    "# Load the CSV file\n",
    "df = pd.read_csv(file_path)\n",
    "\n",
    "# Convert response times from milliseconds to seconds\n",
    "df[\"Median\"] = df[\"Median\"] / 1000\n",
    "df[\"P(90)\"] = df[\"P(90)\"] / 1000\n",
    "df[\"P(95)\"] = df[\"P(95)\"] / 1000\n",
    "\n",
    "# ------------------------------ Response Time Chart ------------------------------\n",
    "plt.figure(figsize=(12, 6))\n",
    "ax = plt.gca()  # Get current axis\n",
    "\n",
    "# Define colors for better contrast\n",
    "color_medians = {\"cpex\": \"darkblue\", \"atis\": \"darkorange\"}  # Bold colors for medians\n",
    "color_percentiles = {\"cpex\": \"cornflowerblue\", \"atis\": \"sandybrown\"}  # Softer but still visible\n",
    "\n",
    "# Plot Medians (Bold, Solid Lines)\n",
    "sns.lineplot(data=df[df[\"Protocol\"] == \"cpex\"], x=\"VUs\", y=\"Median\", color=color_medians[\"cpex\"], marker=\"o\", linestyle=\"solid\", linewidth=2.5, label=\"CPEX Median\")\n",
    "sns.lineplot(data=df[df[\"Protocol\"] == \"atis\"], x=\"VUs\", y=\"Median\", color=color_medians[\"atis\"], marker=\"o\", linestyle=\"solid\", linewidth=2.5, label=\"ATIS Median\")\n",
    "\n",
    "# Plot P90 (Balanced, Dashed Lines)\n",
    "sns.lineplot(data=df[df[\"Protocol\"] == \"cpex\"], x=\"VUs\", y=\"P(90)\", color=color_percentiles[\"cpex\"], marker=\"s\", linestyle=\"dashed\", linewidth=2, label=\"CPEX 90th Percentile\")\n",
    "sns.lineplot(data=df[df[\"Protocol\"] == \"atis\"], x=\"VUs\", y=\"P(90)\", color=color_percentiles[\"atis\"], marker=\"s\", linestyle=\"dashed\", linewidth=2, label=\"ATIS 90th Percentile\")\n",
    "\n",
    "# Plot P95 (Balanced, Dotted Lines)\n",
    "sns.lineplot(data=df[df[\"Protocol\"] == \"cpex\"], x=\"VUs\", y=\"P(95)\", color=color_percentiles[\"cpex\"], marker=\"^\", linestyle=\"dotted\", linewidth=2, label=\"CPEX 95th Percentile\")\n",
    "sns.lineplot(data=df[df[\"Protocol\"] == \"atis\"], x=\"VUs\", y=\"P(95)\", color=color_percentiles[\"atis\"], marker=\"^\", linestyle=\"dotted\", linewidth=2, label=\"ATIS 95th Percentile\")\n",
    "\n",
    "plt.title(\"Response Time Comparison (Median, 90th, and 95th Percentile)\", pad=15)  # Added space\n",
    "plt.xlabel(\"Virtual Providers (VPs)\")\n",
    "plt.ylabel(\"Response Time (seconds)\")  # Updated to seconds\n",
    "plt.legend(title=\"Response Time Type & Protocol\")\n",
    "plt.grid(True, linestyle=(0, (3, 3)), linewidth=0.8)  # Small dashed grid lines\n",
    "\n",
    "# Save to PDF (Preserve UI exactly, no extra borders)\n",
    "plt.savefig(\"../charts/response_time_comparison.pdf\", bbox_inches='tight', dpi=300, transparent=True)\n",
    "plt.show()\n",
    "\n",
    "# ------------------------------ Calls per Second Chart ------------------------------\n",
    "# plt.figure(figsize=(12, 6))\n",
    "# ax = plt.gca()  # Get current axis\n",
    "\n",
    "# # Define colors for CPEX and ATIS\n",
    "# color_calls = {\"cpex\": \"darkblue\", \"atis\": \"darkorange\"}\n",
    "\n",
    "# # Plot Calls per Second\n",
    "# sns.lineplot(data=df[df[\"Protocol\"] == \"cpex\"], x=\"VUs\", y=\"Calls/s\", color=color_calls[\"cpex\"], marker=\"o\", linestyle=\"solid\", linewidth=2.5, label=\"CPEX\")\n",
    "# sns.lineplot(data=df[df[\"Protocol\"] == \"atis\"], x=\"VUs\", y=\"Calls/s\", color=color_calls[\"atis\"], marker=\"o\", linestyle=\"solid\", linewidth=2.5, label=\"ATIS\")\n",
    "\n",
    "# plt.title(\"Throughput Comparison: Calls per Second\", pad=15)  # Added space\n",
    "# plt.xlabel(\"Virtual Providers (VPs)\")\n",
    "# plt.ylabel(\"Calls per Second\")\n",
    "# plt.legend(title=\"Protocol\")\n",
    "# plt.grid(True, linestyle=(0, (3, 3)), linewidth=0.8)  # Small dashed grid lines\n",
    "\n",
    "# # Save to PDF (Preserve UI exactly, no extra borders)\n",
    "# plt.savefig(\"../charts/calls_per_second_comparison.pdf\", bbox_inches='tight', dpi=300, transparent=True)\n",
    "# plt.show()\n"
   ]
  }
 ],
 "metadata": {
  "kernelspec": {
   "display_name": ".venv",
   "language": "python",
   "name": "python3"
  },
  "language_info": {
   "codemirror_mode": {
    "name": "ipython",
    "version": 3
   },
   "file_extension": ".py",
   "mimetype": "text/x-python",
   "name": "python",
   "nbconvert_exporter": "python",
   "pygments_lexer": "ipython3",
   "version": "3.8.18"
  }
 },
 "nbformat": 4,
 "nbformat_minor": 2
}

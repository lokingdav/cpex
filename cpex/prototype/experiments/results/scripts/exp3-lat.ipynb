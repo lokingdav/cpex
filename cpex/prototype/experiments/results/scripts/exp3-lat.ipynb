{
 "cells": [
  {
   "cell_type": "code",
   "execution_count": null,
   "metadata": {},
   "outputs": [],
   "source": [
    "import matplotlib.pyplot as plt\n",
    "import seaborn as sns\n",
    "import pandas as pd\n",
    "import matplotlib as mpl\n",
    "\n",
    "# Set global font settings to serif for academic formatting\n",
    "mpl.rcParams['font.family'] = 'serif'\n",
    "mpl.rcParams['font.size'] = 12  # Adjust to match academic text size\n",
    "\n",
    "# Load the CSV file\n",
    "df = pd.read_csv(\"../experiment-3.csv\")\n",
    "\n",
    "# Convert latency from milliseconds to seconds\n",
    "df[\"latency\"] = df[\"latency\"] / 1000  # Convert ms to seconds\n",
    "\n",
    "# Define lighter colors for better visibility\n",
    "color_palette = {\"cpex\": \"darkblue\", \"atis\": \"darkorange\"}  # Lighter blue and orange\n",
    "\n",
    "# Create the KDE-based empirical PDF plot\n",
    "plt.figure(figsize=(10, 6))\n",
    "\n",
    "# Plot KDE for each protocol\n",
    "for protocol in df[\"protocol\"].unique():\n",
    "    subset = df[df[\"protocol\"] == protocol][\"latency\"]\n",
    "    sns.kdeplot(subset, label=f\"{protocol.upper()}\", color=color_palette[protocol], \n",
    "                linewidth=2, fill=True, alpha=0.3)  # Fill adds transparency for better visibility\n",
    "\n",
    "# Labels and title\n",
    "plt.title(\"Empirical Probability Density Function of Latency\", fontsize=14, fontweight='bold')\n",
    "plt.xlabel(\"Latency (seconds)\", fontsize=12)\n",
    "plt.ylabel(\"Density\", fontsize=12)\n",
    "\n",
    "median_values = df.groupby(\"protocol\")[\"latency\"].median()\n",
    "handles = [\n",
    "    plt.Line2D([0], [0], color=\"darkblue\", lw=4, label=f\"CPeX: {median_values['cpex']:.3f} s\"),\n",
    "    plt.Line2D([0], [0], color=\"darkorange\", lw=4, label=f\"ATIS: {median_values['atis']:.3f} s\"),\n",
    "]\n",
    "plt.legend(handles=handles, title=\"Median Latency\", title_fontsize=\"12\", fontsize=\"12\")\n",
    "\n",
    "# Save as high-resolution PDF\n",
    "pdf_path = \"../charts/latency_empirical_pdf_kde.pdf\"\n",
    "plt.savefig(pdf_path, format=\"pdf\", dpi=300, bbox_inches=\"tight\")\n",
    "\n",
    "# Show the plot\n",
    "plt.show()\n"
   ]
  }
 ],
 "metadata": {
  "kernelspec": {
   "display_name": ".venv",
   "language": "python",
   "name": "python3"
  },
  "language_info": {
   "codemirror_mode": {
    "name": "ipython",
    "version": 3
   },
   "file_extension": ".py",
   "mimetype": "text/x-python",
   "name": "python",
   "nbconvert_exporter": "python",
   "pygments_lexer": "ipython3",
   "version": "3.8.18"
  }
 },
 "nbformat": 4,
 "nbformat_minor": 2
}
